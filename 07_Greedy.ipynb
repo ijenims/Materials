{
  "cells": [
    {
      "cell_type": "markdown",
      "metadata": {
        "id": "view-in-github",
        "colab_type": "text"
      },
      "source": [
        "<a href=\"https://colab.research.google.com/github/ijenims/Materials/blob/main/07_Greedy.ipynb\" target=\"_parent\"><img src=\"https://colab.research.google.com/assets/colab-badge.svg\" alt=\"Open In Colab\"/></a>"
      ]
    },
    {
      "cell_type": "markdown",
      "metadata": {
        "id": "1I86VeIjOmmh"
      },
      "source": [
        "### 問題解決力を鍛える！\n",
        "# アルゴリズムとデータ構造"
      ]
    },
    {
      "cell_type": "markdown",
      "metadata": {
        "id": "KLPd8fIxOmml"
      },
      "source": [
        "## 第７章　設計技法(5)：貪欲法"
      ]
    },
    {
      "cell_type": "markdown",
      "source": [
        "#### code 7.1 コイン問題を解く貪欲法"
      ],
      "metadata": {
        "id": "DoSkw97QWSZV"
      }
    },
    {
      "cell_type": "code",
      "execution_count": null,
      "metadata": {
        "id": "2o-kvNaQOmmn",
        "outputId": "49f16b66-fcd3-4081-d3d7-0c9378155dba"
      },
      "outputs": [
        {
          "name": "stdout",
          "output_type": "stream",
          "text": [
            "12 [1, 1, 0, 5, 3, 2]\n"
          ]
        }
      ],
      "source": [
        "# 2021.6.30  p.111  コイン問題\n",
        "\n",
        "def main():\n",
        "    \n",
        "    value = [500, 100, 50, 10, 5, 1]\n",
        "    \n",
        "    # input\n",
        "    x = 667\n",
        "    a = [5, 5, 0, 5, 5, 5]\n",
        "    used = [0] * len(a)\n",
        "    \n",
        "    # Greedy algorithm\n",
        "    result = 0\n",
        "    for i in range(6):\n",
        "        # 枚数制限がない場合の枚数\n",
        "        add = x // value[i]\n",
        "        \n",
        "        # 枚数制限を考慮\n",
        "        if add > a[i]:\n",
        "            add = a[i]\n",
        "            \n",
        "        # 残り金額を求めて答えに枚数を加算する\n",
        "        x -= value[i] * add\n",
        "        result += add\n",
        "        used[i] = add\n",
        "        \n",
        "    print(result, used)\n",
        "    \n",
        "    \n",
        "main()\n",
        "        "
      ]
    },
    {
      "cell_type": "markdown",
      "source": [
        "#### code 7.2 区間スケジュール問題に対する貪欲法"
      ],
      "metadata": {
        "id": "FYXhBkLUv5HD"
      }
    },
    {
      "cell_type": "code",
      "execution_count": 10,
      "metadata": {
        "id": "PKfiu6jNOmmp",
        "colab": {
          "base_uri": "https://localhost:8080/"
        },
        "outputId": "7d2643ba-f2f0-4ed9-f4fb-2a9c2df675a1"
      },
      "outputs": [
        {
          "output_type": "stream",
          "name": "stdout",
          "text": [
            "sorted : [(10, 12), (11, 15), (9, 16), (15, 18), (13, 19), (18, 22), (19, 23)]\n",
            "choosed: [(10, 12), (15, 18), (18, 22)]\n",
            "result : max. 3 jobs\n"
          ]
        }
      ],
      "source": [
        "# 2022.4.1\n",
        "\n",
        "# Status : Completed 4.2\n",
        "\n",
        "# input data\n",
        "N = 7\n",
        "JOB = [(9, 16), (11, 15), (10, 12), (13, 19), (15, 18), (18, 22), (19, 23)]\n",
        "\n",
        "\n",
        "# code\n",
        "\n",
        "def cmp(a, b):\n",
        "    return 0\n",
        "\n",
        "def main():\n",
        "\n",
        "    # 終端時刻が早い順にソートする\n",
        "    interval = sorted(JOB, key=lambda x: x[1])\n",
        "    print(f'sorted : {interval}')\n",
        "\n",
        "    # 貪欲に選ぶ\n",
        "    res = 0\n",
        "    current_end_time = 0\n",
        "    can_choose = []\n",
        "    for i in range(N):\n",
        "        if interval[i][0] < current_end_time:\n",
        "            continue\n",
        "\n",
        "        res += 1\n",
        "        current_end_time =interval[i][1]\n",
        "        can_choose.append(interval[i])\n",
        "    \n",
        "    print(f'choosed: {can_choose}')\n",
        "    print(f'result : max. {res} jobs')\n",
        "\n",
        "\n",
        "main()\n"
      ]
    },
    {
      "cell_type": "markdown",
      "source": [
        "#### Code 7.3 Multiple Array - AtCoder Grand Contest 009 A"
      ],
      "metadata": {
        "id": "V3ZkPr3OZkr6"
      }
    },
    {
      "cell_type": "code",
      "source": [
        "# 2022.4.2\n",
        "\n",
        "# Status : New"
      ],
      "metadata": {
        "id": "l7V1ht5WZ5_l"
      },
      "execution_count": null,
      "outputs": []
    }
  ],
  "metadata": {
    "kernelspec": {
      "display_name": "Python 3",
      "language": "python",
      "name": "python3"
    },
    "language_info": {
      "codemirror_mode": {
        "name": "ipython",
        "version": 3
      },
      "file_extension": ".py",
      "mimetype": "text/x-python",
      "name": "python",
      "nbconvert_exporter": "python",
      "pygments_lexer": "ipython3",
      "version": "3.8.3"
    },
    "colab": {
      "name": "07_Greedy.ipynb",
      "provenance": [],
      "collapsed_sections": [],
      "toc_visible": true,
      "include_colab_link": true
    }
  },
  "nbformat": 4,
  "nbformat_minor": 0
}