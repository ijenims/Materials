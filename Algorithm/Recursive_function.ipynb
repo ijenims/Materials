{
 "cells": [
  {
   "cell_type": "code",
   "execution_count": 19,
   "metadata": {},
   "outputs": [
    {
     "data": {
      "text/plain": [
       "5050"
      ]
     },
     "execution_count": 19,
     "metadata": {},
     "output_type": "execute_result"
    }
   ],
   "source": [
    "# coding: utf-8\n",
    "\n",
    "def func(n):\n",
    "    if n == 0:\n",
    "        return 0\n",
    "    return n + func(n - 1)\n",
    "\n",
    "func(100)"
   ]
  },
  {
   "cell_type": "code",
   "execution_count": 18,
   "metadata": {},
   "outputs": [
    {
     "data": {
      "text/plain": [
       "93326215443944152681699238856266700490715968264381621468592963895217599993229915608941463976156518286253697920827223758251185210916864000000000000000000000000"
      ]
     },
     "execution_count": 18,
     "metadata": {},
     "output_type": "execute_result"
    }
   ],
   "source": [
    "def func(n):\n",
    "    if n == 1:\n",
    "        return 1\n",
    "    return n * func(n - 1)\n",
    "\n",
    "func(100)"
   ]
  },
  {
   "cell_type": "code",
   "execution_count": 20,
   "metadata": {},
   "outputs": [
    {
     "name": "stdout",
     "output_type": "stream",
     "text": [
      "func(5)を呼び出しました\n",
      "func(4)を呼び出しました\n",
      "func(3)を呼び出しました\n",
      "func(2)を呼び出しました\n",
      "func(1)を呼び出しました\n",
      "func(0)を呼び出しました\n",
      "1までの和 = 1\n",
      "2までの和 = 3\n",
      "3までの和 = 6\n",
      "4までの和 = 10\n",
      "5までの和 = 15\n"
     ]
    },
    {
     "data": {
      "text/plain": [
       "15"
      ]
     },
     "execution_count": 20,
     "metadata": {},
     "output_type": "execute_result"
    }
   ],
   "source": [
    "# coding: utf-8\n",
    "\n",
    "def func(n):\n",
    "    # 再帰関数を呼び出したことを報告する\n",
    "    print('func({})を呼び出しました'.format(n))\n",
    "    \n",
    "    if n == 0:\n",
    "        return 0\n",
    "    \n",
    "    # 再帰的に答えを求めて出力する\n",
    "    result = n + func(n - 1)\n",
    "    print('{}までの和 = {}'.format(n, result))\n",
    "    \n",
    "    return result\n",
    "\n",
    "func(5)"
   ]
  },
  {
   "cell_type": "code",
   "execution_count": 23,
   "metadata": {},
   "outputs": [
    {
     "name": "stdout",
     "output_type": "stream",
     "text": [
      "func(10)を呼び出しました\n",
      "func(9)を呼び出しました\n",
      "func(8)を呼び出しました\n",
      "func(7)を呼び出しました\n",
      "func(6)を呼び出しました\n",
      "func(5)を呼び出しました\n",
      "func(4)を呼び出しました\n",
      "func(3)を呼び出しました\n",
      "func(2)を呼び出しました\n",
      "func(1)を呼び出しました\n",
      "2までの積 = 2\n",
      "3までの積 = 6\n",
      "4までの積 = 24\n",
      "5までの積 = 120\n",
      "6までの積 = 720\n",
      "7までの積 = 5040\n",
      "8までの積 = 40320\n",
      "9までの積 = 362880\n",
      "10までの積 = 3628800\n"
     ]
    },
    {
     "data": {
      "text/plain": [
       "3628800"
      ]
     },
     "execution_count": 23,
     "metadata": {},
     "output_type": "execute_result"
    }
   ],
   "source": [
    "# coding: utf-8\n",
    "\n",
    "def func(n):\n",
    "    # 再帰関数を呼び出したことを報告する\n",
    "    print('func({})を呼び出しました'.format(n))\n",
    "    \n",
    "    if n == 1:\n",
    "        return 1\n",
    "    \n",
    "    # 再帰的に答えを求めて出力する\n",
    "    result = n * func(n - 1)\n",
    "    print('{}までの積 = {}'.format(n, result))\n",
    "    \n",
    "    return result\n",
    "\n",
    "func(10)"
   ]
  },
  {
   "cell_type": "code",
   "execution_count": 29,
   "metadata": {},
   "outputs": [
    {
     "data": {
      "text/plain": [
       "21"
      ]
     },
     "execution_count": 29,
     "metadata": {},
     "output_type": "execute_result"
    }
   ],
   "source": [
    "# coding: utf-8\n",
    "# Euclidean Algorithm\n",
    "\n",
    "def gcd(m, n):\n",
    "    # base case\n",
    "    if n == 0:\n",
    "        return m\n",
    "    \n",
    "    # call recursive\n",
    "    return gcd(n, m % n)\n",
    "\n",
    "gcd(1071, 1029)"
   ]
  },
  {
   "cell_type": "code",
   "execution_count": 1,
   "metadata": {},
   "outputs": [
    {
     "name": "stdout",
     "output_type": "stream",
     "text": [
      "fibo(6)を呼び出しました\n",
      "fibo(5)を呼び出しました\n",
      "fibo(4)を呼び出しました\n",
      "fibo(3)を呼び出しました\n",
      "fibo(2)を呼び出しました\n",
      "fibo(1)を呼び出しました\n",
      "fibo(0)を呼び出しました\n",
      "2項目 = 1\n",
      "fibo(1)を呼び出しました\n",
      "3項目 = 2\n",
      "fibo(2)を呼び出しました\n",
      "fibo(1)を呼び出しました\n",
      "fibo(0)を呼び出しました\n",
      "2項目 = 1\n",
      "4項目 = 3\n",
      "fibo(3)を呼び出しました\n",
      "fibo(2)を呼び出しました\n",
      "fibo(1)を呼び出しました\n",
      "fibo(0)を呼び出しました\n",
      "2項目 = 1\n",
      "fibo(1)を呼び出しました\n",
      "3項目 = 2\n",
      "5項目 = 5\n",
      "fibo(4)を呼び出しました\n",
      "fibo(3)を呼び出しました\n",
      "fibo(2)を呼び出しました\n",
      "fibo(1)を呼び出しました\n",
      "fibo(0)を呼び出しました\n",
      "2項目 = 1\n",
      "fibo(1)を呼び出しました\n",
      "3項目 = 2\n",
      "fibo(2)を呼び出しました\n",
      "fibo(1)を呼び出しました\n",
      "fibo(0)を呼び出しました\n",
      "2項目 = 1\n",
      "4項目 = 3\n",
      "6項目 = 8\n"
     ]
    },
    {
     "data": {
      "text/plain": [
       "8"
      ]
     },
     "execution_count": 1,
     "metadata": {},
     "output_type": "execute_result"
    }
   ],
   "source": [
    "# coding: utf-8\n",
    "def fibo(n):\n",
    "    # report of recursive call\n",
    "    print('fibo({})を呼び出しました'.format(n))\n",
    "    \n",
    "    # base case\n",
    "    if n == 0:\n",
    "        return 0\n",
    "    elif n == 1:\n",
    "        return 1\n",
    "    \n",
    "    # print answer by recursive function\n",
    "    result = fibo(n - 1) + fibo(n - 2)\n",
    "    print('{}項目 = {}'.format(n, result))\n",
    "    \n",
    "    return result\n",
    "    \n",
    "    \n",
    "fibo(6)"
   ]
  },
  {
   "cell_type": "code",
   "execution_count": 3,
   "metadata": {},
   "outputs": [
    {
     "name": "stdout",
     "output_type": "stream",
     "text": [
      "2020-12-25 21:31:05.866336+09:00\n",
      "40\n",
      "Fibo(40) = 102334155\n",
      "Calc time = 36.30848431587219 sec\n",
      "2020-12-25 21:31:45.564264+09:00\n"
     ]
    }
   ],
   "source": [
    "# coding: utf-8\n",
    "# Fibonacci Sequence 2020/12/25\n",
    "import time\n",
    "import datetime\n",
    "s_now = datetime.datetime.now(datetime.timezone(datetime.timedelta(hours=9))) \n",
    "print(s_now)\n",
    "\n",
    "\n",
    "def fibo(n):\n",
    "    # base case\n",
    "    if n == 0:\n",
    "        return 0\n",
    "    elif n == 1:\n",
    "        return 1\n",
    "    \n",
    "    # call recursive function\n",
    "    return fibo(n - 1) + fibo(n - 2)\n",
    "\n",
    "\n",
    "def main():\n",
    "    n = int(input())\n",
    "    s_time = time.time()\n",
    "    \n",
    "    print(\"Fibo({}) = {}\".format(n, fibo(n)))\n",
    "    \n",
    "    e_time = time.time()\n",
    "    calc_time = e_time - s_time\n",
    "    print('Calc time = {} sec'.format(calc_time))\n",
    "\n",
    "\n",
    "main()\n",
    "          \n",
    "    \n",
    "''' time '''\n",
    "e_now = datetime.datetime.now(datetime.timezone(datetime.timedelta(hours=9))) \n",
    "print(e_now)"
   ]
  },
  {
   "cell_type": "code",
   "execution_count": 4,
   "metadata": {},
   "outputs": [
    {
     "name": "stdout",
     "output_type": "stream",
     "text": [
      "2020-12-25 21:32:55.096715+09:00\n",
      "40\n",
      "102334155 [None, None, 1, 2, 3, 5, 8, 13, 21, 34, 55, 89, 144, 233, 377, 610, 987, 1597, 2584, 4181, 6765, 10946, 17711, 28657, 46368, 75025, 121393, 196418, 317811, 514229, 832040, 1346269, 2178309, 3524578, 5702887, 9227465, 14930352, 24157817, 39088169, 63245986, 102334155]\n",
      "2 項目： 1\n",
      "3 項目： 2\n",
      "4 項目： 3\n",
      "5 項目： 5\n",
      "6 項目： 8\n",
      "7 項目： 13\n",
      "8 項目： 21\n",
      "9 項目： 34\n",
      "10 項目： 55\n",
      "11 項目： 89\n",
      "12 項目： 144\n",
      "13 項目： 233\n",
      "14 項目： 377\n",
      "15 項目： 610\n",
      "16 項目： 987\n",
      "17 項目： 1597\n",
      "18 項目： 2584\n",
      "19 項目： 4181\n",
      "20 項目： 6765\n",
      "21 項目： 10946\n",
      "22 項目： 17711\n",
      "23 項目： 28657\n",
      "24 項目： 46368\n",
      "25 項目： 75025\n",
      "26 項目： 121393\n",
      "27 項目： 196418\n",
      "28 項目： 317811\n",
      "29 項目： 514229\n",
      "30 項目： 832040\n",
      "31 項目： 1346269\n",
      "32 項目： 2178309\n",
      "33 項目： 3524578\n",
      "34 項目： 5702887\n",
      "35 項目： 9227465\n",
      "36 項目： 14930352\n",
      "37 項目： 24157817\n",
      "38 項目： 39088169\n",
      "39 項目： 63245986\n",
      "40 項目： 102334155\n",
      "Calc time = 0.002941608428955078 sec\n",
      "2020-12-25 21:33:01.266817+09:00\n"
     ]
    }
   ],
   "source": [
    "# coding: utf-8\n",
    "# Fibonacci sequence MEMO method 2020.12.25\n",
    "import time\n",
    "import datetime\n",
    "s_now = datetime.datetime.now(datetime.timezone(datetime.timedelta(hours=9))) \n",
    "print(s_now)\n",
    "\n",
    "def fibo(n):\n",
    "    # base case\n",
    "    if n == 0:\n",
    "        return 0\n",
    "    if n == 1:\n",
    "        return 1\n",
    "    \n",
    "    # check MEMO\n",
    "    if memo[n]:\n",
    "        return memo[n]\n",
    "    \n",
    "    memo[n] = fibo(n - 1) + fibo(n - 2)\n",
    "    return memo[n]\n",
    "\n",
    "\n",
    "def main(n):   \n",
    "    \n",
    "    # call fibo(49)\n",
    "    print(fibo(n), memo)\n",
    "    \n",
    "    # answer is in MEMO\n",
    "    for n in range(2, n + 1):\n",
    "        print(n, '項目：', memo[n])\n",
    "        \n",
    "    e_time = time.time()\n",
    "    calc_time = e_time - s_time\n",
    "    print('Calc time = {} sec'.format(calc_time))\n",
    "    \n",
    "        \n",
    "# initialize MEMO on 'None'\n",
    "n = int(input())\n",
    "s_time = time.time()\n",
    "\n",
    "memo = [None] * (n + 1)\n",
    "main(n)\n",
    "\n",
    "''' time '''\n",
    "e_now = datetime.datetime.now(datetime.timezone(datetime.timedelta(hours=9))) \n",
    "print(e_now)"
   ]
  },
  {
   "cell_type": "code",
   "execution_count": 5,
   "metadata": {},
   "outputs": [
    {
     "name": "stdout",
     "output_type": "stream",
     "text": [
      "354224848179261915075\n"
     ]
    }
   ],
   "source": [
    "''' Fibonacci sequence MEMO method by Qiita\n",
    "    https://qiita.com/aki3061/items/b370c4b8537f806d2bf1 '''\n",
    "\n",
    "MAX_N = 100\n",
    "MEMO = [None] * (MAX_N + 1)  # 計算結果を保存する配列\n",
    "\n",
    "def fib(n):\n",
    "    if n == 0:\n",
    "        return 0\n",
    "    if n == 1:\n",
    "        return 1\n",
    "\n",
    "    # 計算済み？\n",
    "    if MEMO[n]:\n",
    "        return MEMO[n]\n",
    "\n",
    "    r = fib(n-1) + fib(n-2)\n",
    "    MEMO[n] = r  # 計算結果を保存\n",
    "    return r\n",
    "\n",
    "print(fib(100))"
   ]
  },
  {
   "cell_type": "code",
   "execution_count": 30,
   "metadata": {},
   "outputs": [
    {
     "name": "stdout",
     "output_type": "stream",
     "text": [
      "Call func(4), w = 14, a = [3, 2, 6, 5]\n",
      "Call func(3), w = 14, a = [3, 2, 6, 5]\n",
      "Call func(2), w = 14, a = [3, 2, 6, 5]\n",
      "Call func(1), w = 14, a = [3, 2, 6, 5]\n",
      "Call func(0), w = 14, a = [3, 2, 6, 5]\n",
      "Call func(0), w = 11, a = [3, 2, 6, 5]\n",
      "Call func(1), w = 12, a = [3, 2, 6, 5]\n",
      "Call func(0), w = 12, a = [3, 2, 6, 5]\n",
      "Call func(0), w = 9, a = [3, 2, 6, 5]\n",
      "Call func(2), w = 8, a = [3, 2, 6, 5]\n",
      "Call func(1), w = 8, a = [3, 2, 6, 5]\n",
      "Call func(0), w = 8, a = [3, 2, 6, 5]\n",
      "Call func(0), w = 5, a = [3, 2, 6, 5]\n",
      "Call func(1), w = 6, a = [3, 2, 6, 5]\n",
      "Call func(0), w = 6, a = [3, 2, 6, 5]\n",
      "Call func(0), w = 3, a = [3, 2, 6, 5]\n",
      "Call func(3), w = 9, a = [3, 2, 6, 5]\n",
      "Call func(2), w = 9, a = [3, 2, 6, 5]\n",
      "Call func(1), w = 9, a = [3, 2, 6, 5]\n",
      "Call func(0), w = 9, a = [3, 2, 6, 5]\n",
      "Call func(0), w = 6, a = [3, 2, 6, 5]\n",
      "Call func(1), w = 7, a = [3, 2, 6, 5]\n",
      "Call func(0), w = 7, a = [3, 2, 6, 5]\n",
      "Call func(0), w = 4, a = [3, 2, 6, 5]\n",
      "Call func(2), w = 3, a = [3, 2, 6, 5]\n",
      "Call func(1), w = 3, a = [3, 2, 6, 5]\n",
      "Call func(0), w = 3, a = [3, 2, 6, 5]\n",
      "Call func(0), w = 0, a = [3, 2, 6, 5]\n",
      "c- 3\n",
      "nc- 2\n",
      "c- 6\n",
      "c- 5\n",
      "Yes\n"
     ]
    }
   ],
   "source": [
    "# coding: utf-8\n",
    "# Subset Sum Problem\n",
    "\n",
    "def func(i, w, a):\n",
    "    ''' i, w ; int\n",
    "        a : list '''\n",
    "    print('Call func({}), w = {}, a = {}'.format(i, w, a))\n",
    "    # base case\n",
    "    if i == 0:\n",
    "        if w == 0:\n",
    "            return True\n",
    "        else:\n",
    "            return False  # i=0 になった時 w=0 でなかったら'No' \n",
    "        \n",
    "    # not choose a[i-1]\n",
    "    if func(i - 1, w, a):\n",
    "        print('nc-', a[i - 1])\n",
    "        return True\n",
    "    \n",
    "    # choose a[i-1]\n",
    "    if func(i - 1, w - a[i - 1], a):\n",
    "        print('c-', a[i - 1])\n",
    "        return True\n",
    "    \n",
    "    # both choice are false\n",
    "    return False\n",
    "\n",
    "\n",
    "def main():\n",
    "    ''' initial '''\n",
    "    ''''''\n",
    "    n, w= 4, 14\n",
    "    a = [3, 2, 6, 5]\n",
    "    '''\n",
    "    n, w = 6, 27\n",
    "    a = [3, 7, 8, 12, 13, 18]\n",
    "    '''\n",
    "    \n",
    "    ''' solve recursive '''\n",
    "    if func(n, w, a):\n",
    "        print('Yes')\n",
    "    else:\n",
    "        print('No')\n",
    "        \n",
    "        \n",
    "main()\n",
    "        "
   ]
  },
  {
   "cell_type": "code",
   "execution_count": null,
   "metadata": {},
   "outputs": [],
   "source": []
  }
 ],
 "metadata": {
  "kernelspec": {
   "display_name": "Python 3",
   "language": "python",
   "name": "python3"
  },
  "language_info": {
   "codemirror_mode": {
    "name": "ipython",
    "version": 3
   },
   "file_extension": ".py",
   "mimetype": "text/x-python",
   "name": "python",
   "nbconvert_exporter": "python",
   "pygments_lexer": "ipython3",
   "version": "3.8.3"
  }
 },
 "nbformat": 4,
 "nbformat_minor": 4
}
