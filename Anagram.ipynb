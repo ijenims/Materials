{
  "nbformat": 4,
  "nbformat_minor": 0,
  "metadata": {
    "colab": {
      "name": "Anagram.ipynb",
      "provenance": [],
      "authorship_tag": "ABX9TyOuwteBlYBq4JW3PZ1eSkJU",
      "include_colab_link": true
    },
    "kernelspec": {
      "name": "python3",
      "display_name": "Python 3"
    },
    "language_info": {
      "name": "python"
    }
  },
  "cells": [
    {
      "cell_type": "markdown",
      "metadata": {
        "id": "view-in-github",
        "colab_type": "text"
      },
      "source": [
        "<a href=\"https://colab.research.google.com/github/ijenims/Materials/blob/main/Anagram.ipynb\" target=\"_parent\"><img src=\"https://colab.research.google.com/assets/colab-badge.svg\" alt=\"Open In Colab\"/></a>"
      ]
    },
    {
      "cell_type": "markdown",
      "source": [
        "# Anagram"
      ],
      "metadata": {
        "id": "oMPWRm4CnUkG"
      }
    },
    {
      "cell_type": "markdown",
      "source": [
        "https://www.delftstack.com/ja/howto/python/how-to-generate-all-permutations-of-a-list-in-python/"
      ],
      "metadata": {
        "id": "cVnaltBzDC86"
      }
    },
    {
      "cell_type": "code",
      "execution_count": 4,
      "metadata": {
        "colab": {
          "base_uri": "https://localhost:8080/"
        },
        "id": "deo21-u8m_T5",
        "outputId": "143db8f9-bcef-4d19-9a30-5713fc74d6eb"
      },
      "outputs": [
        {
          "output_type": "stream",
          "name": "stdout",
          "text": [
            "['の', 'し', 'い', 'し']\n",
            "24\n",
            "のしいし\n",
            "のししい\n",
            "のいしし\n",
            "のいしし\n",
            "のししい\n",
            "のしいし\n",
            "しのいし\n",
            "しのしい\n",
            "しいのし\n",
            "しいしの\n",
            "ししのい\n",
            "ししいの\n",
            "いのしし\n",
            "いのしし\n",
            "いしのし\n",
            "いししの\n",
            "いしのし\n",
            "いししの\n",
            "しのしい\n",
            "しのいし\n",
            "ししのい\n",
            "ししいの\n",
            "しいのし\n",
            "しいしの\n"
          ]
        }
      ],
      "source": [
        "# 2022.3.25\n",
        "\n",
        "import itertools\n",
        "\n",
        "def main():\n",
        "    # word = input()\n",
        "    word = 'のしいし'\n",
        "    word_list = list(word)\n",
        "\n",
        "    print(word_list)\n",
        "\n",
        "    anagram = list(itertools.permutations(word_list, r=4))\n",
        "    # anagram = set(anagram)\n",
        "    print(len(anagram))\n",
        "\n",
        "    for w in anagram:\n",
        "        print(''.join(w))\n",
        "\n",
        "\n",
        "main()\n"
      ]
    }
  ]
}