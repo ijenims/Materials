{
 "cells": [
  {
   "cell_type": "code",
   "execution_count": 2,
   "metadata": {},
   "outputs": [
    {
     "data": {
      "text/plain": [
       "' ここまで '"
      ]
     },
     "execution_count": 2,
     "metadata": {},
     "output_type": "execute_result"
    }
   ],
   "source": [
    "\n",
    "''' ファイルからの読み込み '''\n",
    "def load_file():\n",
    "    '''テキストファイルを開いて、内容を読み込む。'''\n",
    "    try:\n",
    "        with open('filename.txt') as f:\n",
    "            a = f.read()\n",
    "            b = f.readline()\n",
    "            c = f.readlines()\n",
    "            \n",
    "            return (a or b or c)\n",
    "    except IOError as e:\n",
    "        print('{}\\nError opening {}. Terminating program.'.format(e, file),\n",
    "              file=sys.stderr)\n",
    "        sys.exit(1)\n",
    "\n",
    "\n",
    "# readはファイルから指定サイズのデータを読み出します。\n",
    "# 引数を省略すると、ファイルの内容全てを読み出します。        \n",
    "\n",
    "# readlineはファイルから1行だけ読み出します。\n",
    "# readlinesはファイルの内容を全て読み出し、1行ごとのリストにします。\n",
    "# 一般には、小さいファイルならば、read()やreadlinesでの一括読み込みが効率的です。\n",
    "        \n",
    "''' ここまで '''\n"
   ]
  },
  {
   "cell_type": "code",
   "execution_count": null,
   "metadata": {},
   "outputs": [],
   "source": []
  }
 ],
 "metadata": {
  "kernelspec": {
   "display_name": "Python 3",
   "language": "python",
   "name": "python3"
  },
  "language_info": {
   "codemirror_mode": {
    "name": "ipython",
    "version": 3
   },
   "file_extension": ".py",
   "mimetype": "text/x-python",
   "name": "python",
   "nbconvert_exporter": "python",
   "pygments_lexer": "ipython3",
   "version": "3.8.3"
  }
 },
 "nbformat": 4,
 "nbformat_minor": 4
}
