{
  "nbformat": 4,
  "nbformat_minor": 0,
  "metadata": {
    "colab": {
      "name": "Math_Algorithm_Book.ipynb",
      "provenance": [],
      "toc_visible": true,
      "authorship_tag": "ABX9TyPCKuBBrgVY5JiEr9xVahCx",
      "include_colab_link": true
    },
    "kernelspec": {
      "name": "python3",
      "display_name": "Python 3"
    },
    "language_info": {
      "name": "python"
    }
  },
  "cells": [
    {
      "cell_type": "markdown",
      "metadata": {
        "id": "view-in-github",
        "colab_type": "text"
      },
      "source": [
        "<a href=\"https://colab.research.google.com/github/ijenims/Materials/blob/main/Math_Algorithm_Book.ipynb\" target=\"_parent\"><img src=\"https://colab.research.google.com/assets/colab-badge.svg\" alt=\"Open In Colab\"/></a>"
      ]
    },
    {
      "cell_type": "markdown",
      "source": [
        "# Math-Algorithm Book"
      ],
      "metadata": {
        "id": "iOh4oyghr1f2"
      }
    },
    {
      "cell_type": "code",
      "source": [
        "# https://github.com/E869120/math-algorithm-book"
      ],
      "metadata": {
        "id": "ce_hJkuJNnnU"
      },
      "execution_count": null,
      "outputs": []
    },
    {
      "cell_type": "markdown",
      "source": [
        "## 第2章　アルゴリズムのための数学の基本知識"
      ],
      "metadata": {
        "id": "zsgB8oYGNslx"
      }
    },
    {
      "cell_type": "markdown",
      "source": [
        "### 2.5 その他の基本的な数学の知識"
      ],
      "metadata": {
        "id": "vF2eVLmAOqcN"
      }
    },
    {
      "cell_type": "code",
      "source": [
        "# Q 2.5.3\n",
        "\n",
        "m = 1\n",
        "n = int(input())\n",
        "\n",
        "for i in range(1, n + 1):\n",
        "    m *= i\n",
        "\n",
        "print(m)\n"
      ],
      "metadata": {
        "colab": {
          "base_uri": "https://localhost:8080/"
        },
        "id": "eiiU49OqR56R",
        "outputId": "397e76dd-9a83-4b2d-a182-8e9f9f101e58"
      },
      "execution_count": null,
      "outputs": [
        {
          "output_type": "stream",
          "name": "stdout",
          "text": [
            "20\n",
            "2432902008176640000\n"
          ]
        }
      ]
    },
    {
      "cell_type": "code",
      "source": [
        "# Q 2.5.4\n",
        "\n",
        "def prime(a):\n",
        "    sq_a = int(a ** 0.5 + 1)\n",
        "\n",
        "    for i in range(2, sq_a):\n",
        "        if a % i == 0:\n",
        "            return False\n",
        "\n",
        "    return True\n",
        "\n",
        "\n",
        "def main():\n",
        "    n = int(input())\n",
        "    ans = []\n",
        "\n",
        "    for i in range(2, n + 1):\n",
        "        if prime(i):\n",
        "            ans.append(i)\n",
        "\n",
        "    print(*ans)\n",
        "\n",
        "\n",
        "main()\n"
      ],
      "metadata": {
        "colab": {
          "base_uri": "https://localhost:8080/"
        },
        "id": "NUcl5KheUcrp",
        "outputId": "79ec5124-1944-4538-f2df-1d7bc0566707"
      },
      "execution_count": null,
      "outputs": [
        {
          "output_type": "stream",
          "name": "stdout",
          "text": [
            "100\n",
            "2 3 5 7 11 13 17 19 23 29 31 37 41 43 47 53 59 61 67 71 73 79 83 89 97\n"
          ]
        }
      ]
    },
    {
      "cell_type": "code",
      "source": [
        "# 2022.3.19\n",
        "\n",
        "# Q 2.5.7\n",
        "\n",
        "n = int(input())\n",
        "\n",
        "cnt = 0\n",
        "for i in range(n):\n",
        "    for j in range(i + 1, n):\n",
        "        cnt += 1\n",
        "\n",
        "print(cnt)"
      ],
      "metadata": {
        "colab": {
          "base_uri": "https://localhost:8080/"
        },
        "id": "sWoGQqWhOiTi",
        "outputId": "6b4f362b-2fb0-4b27-fbdd-bb6ad75216bf"
      },
      "execution_count": null,
      "outputs": [
        {
          "output_type": "stream",
          "name": "stdout",
          "text": [
            "10000\n",
            "49995000\n"
          ]
        }
      ]
    },
    {
      "cell_type": "code",
      "source": [
        "print(i)"
      ],
      "metadata": {
        "colab": {
          "base_uri": "https://localhost:8080/"
        },
        "id": "Zfa0510lRNju",
        "outputId": "68e9edca-c375-4cdd-d3fd-402a2ee19646"
      },
      "execution_count": null,
      "outputs": [
        {
          "output_type": "stream",
          "name": "stdout",
          "text": [
            "111\n"
          ]
        }
      ]
    },
    {
      "cell_type": "markdown",
      "source": [
        "## 第3章　基本的なアルゴリズム"
      ],
      "metadata": {
        "id": "bx-MNElwsrNH"
      }
    },
    {
      "cell_type": "markdown",
      "source": [
        "### 3.1 素数判定法"
      ],
      "metadata": {
        "id": "pE6NYMKvtVJO"
      }
    },
    {
      "cell_type": "code",
      "source": [
        "# 2022.3.19\n",
        "\n",
        "# Q 3.1.2  素因数分解\n",
        "\n",
        "def divisor(a):\n",
        "    sq_a = int(a ** 0.5 + 1)\n",
        "    a_div = []\n",
        "\n",
        "    '''for i in range(2, sq_a):\n",
        "        if a % i == 0:\n",
        "            a_div.append(i)\n",
        "            #a_div.append(a // i)'''\n",
        "            \n",
        "    b = []\n",
        "    for j in range(2, sq_a):\n",
        "        while a % j == 0:        \n",
        "            b.append(j)\n",
        "            a //= j\n",
        "\n",
        "    if a > sq_a:\n",
        "        b.append(a)\n",
        "        \n",
        "    return b\n",
        "\n",
        "\n",
        "def main():\n",
        "    n = int(input())\n",
        "    ans = [str(z) for z in divisor(n)]\n",
        "    print(' x '.join(ans))\n",
        "    print(*ans)\n",
        "\n",
        "\n",
        "main()\n",
        "\n"
      ],
      "metadata": {
        "colab": {
          "base_uri": "https://localhost:8080/"
        },
        "id": "zrUXStKfu6Xc",
        "outputId": "4c82ffad-d515-4da6-86ae-0c7fd0729ec2"
      },
      "execution_count": null,
      "outputs": [
        {
          "output_type": "stream",
          "name": "stdout",
          "text": [
            "20211225\n",
            "3 x 5 x 5 x 31 x 8693\n",
            "3 5 5 31 8693\n"
          ]
        }
      ]
    },
    {
      "cell_type": "code",
      "source": [
        "# Model Answer\n",
        "\n",
        "# 入力\n",
        "N = int(input())\n",
        "\n",
        "# 素因数分解\n",
        "Answer = []\n",
        "LIMIT = int(N ** 0.5)\n",
        "for i in range(2, LIMIT + 1):\n",
        "\twhile N % i == 0:\n",
        "\t\tN /= i\n",
        "\t\tAnswer.append(i)\n",
        "\n",
        "if N >= 2:\n",
        "\tAnswer.append(int(N))\n",
        "\n",
        "# 出力\n",
        "print(*Answer)"
      ],
      "metadata": {
        "colab": {
          "base_uri": "https://localhost:8080/"
        },
        "id": "D27priuDxsnr",
        "outputId": "1d9d1b36-c033-4af5-bac1-ec5a9f744c30"
      },
      "execution_count": null,
      "outputs": [
        {
          "output_type": "stream",
          "name": "stdout",
          "text": [
            "11111\n",
            "41 271\n"
          ]
        }
      ]
    },
    {
      "cell_type": "markdown",
      "source": [
        "### 3.2 ユークリッドの互除法 "
      ],
      "metadata": {
        "id": "leR9mVf4rmOV"
      }
    },
    {
      "cell_type": "code",
      "source": [
        "# Q 3.2.2\n",
        "# Calcurate G.C.D.\n",
        "\n",
        "def euc(a, b):\n",
        "    while a >= 1 and b >= 1:\n",
        "        if a < b:\n",
        "            b = b % a\n",
        "        else:\n",
        "            a = a % b\n",
        "\n",
        "    return max(a, b)\n",
        "\n",
        "\n",
        "def main():\n",
        "    s = [int(z) for z in input().split()]\n",
        "\n",
        "    c = s[0]\n",
        "    for i in range(len(s) - 1):\n",
        "        c = euc(c, s[i+1])\n",
        "\n",
        "    print(c)\n",
        "\n",
        "\n",
        "main()\n"
      ],
      "metadata": {
        "colab": {
          "base_uri": "https://localhost:8080/"
        },
        "id": "OuVo3ZTHr3vc",
        "outputId": "41308074-dc00-479d-a79c-85de653cd858"
      },
      "execution_count": null,
      "outputs": [
        {
          "output_type": "stream",
          "name": "stdout",
          "text": [
            "111 222 334\n",
            "1\n"
          ]
        }
      ]
    },
    {
      "cell_type": "code",
      "source": [
        "A = {1, 2, 3, 4, 5}\n",
        "B = {4, 5, 6, 7, 8}\n",
        "\n",
        "print(B and A)"
      ],
      "metadata": {
        "colab": {
          "base_uri": "https://localhost:8080/"
        },
        "id": "WdlKqNti6vnN",
        "outputId": "edb2159a-d29b-486f-f593-a4a6913dffa2"
      },
      "execution_count": null,
      "outputs": [
        {
          "output_type": "stream",
          "name": "stdout",
          "text": [
            "{1, 2, 3, 4, 5}\n"
          ]
        }
      ]
    },
    {
      "cell_type": "code",
      "source": [
        "# 2022.4.3\n",
        "\n",
        "# Q 3.2.3\n",
        "# Calculate L.C.M.\n",
        "\n",
        "def euc(a, b):\n",
        "    while a >= 1 and b >= 1:\n",
        "        if a < b:\n",
        "            b = b % a\n",
        "        else:\n",
        "            a = a % b\n",
        "\n",
        "    return max(a, b)\n",
        "\n",
        "\n",
        "def main():\n",
        "    s = [int(s) for s in input().split()]\n",
        "\n",
        "    lcm = s[0]    # とりあえず最初の要素を c に入れる\n",
        "    for j in range(len(s) - 1):\n",
        "        lcm *= (s[j + 1] // euc(lcm, s[j + 1]))\n",
        "\n",
        "    print(lcm)\n",
        "    \n",
        "\n",
        "main()"
      ],
      "metadata": {
        "id": "gQxp-4YA8Fc_",
        "colab": {
          "base_uri": "https://localhost:8080/"
        },
        "outputId": "ea4ce02b-563f-4625-ddc6-d1dd4025a590"
      },
      "execution_count": null,
      "outputs": [
        {
          "output_type": "stream",
          "name": "stdout",
          "text": [
            "2 4 8 32\n",
            "32\n"
          ]
        }
      ]
    },
    {
      "cell_type": "markdown",
      "source": [
        "### 3.3 場合の数とアルゴリズム"
      ],
      "metadata": {
        "id": "DRR5sFrU5uT6"
      }
    },
    {
      "cell_type": "markdown",
      "source": [
        "https://github.com/E869120/math-algorithm-book/blob/main/editorial/chap3-3/chap3-3.pdf"
      ],
      "metadata": {
        "id": "zkt34pulL_TJ"
      }
    },
    {
      "cell_type": "code",
      "source": [
        "# Q 3.3.3\n",
        "# Calc nCr\n",
        "\n",
        "def factorial(x):\n",
        "    # x: int\n",
        "    x_facto = 1\n",
        "    for i in range(x):\n",
        "        x_facto *= (i + 1)\n",
        "\n",
        "    return x_facto\n",
        "\n",
        "\n",
        "def main():\n",
        "    n, r = map(int, input().split())\n",
        "    n_C_r = factorial(n) // (factorial(r) * factorial(n - r))\n",
        "\n",
        "    print(n_C_r)\n",
        "\n",
        "\n",
        "main()"
      ],
      "metadata": {
        "colab": {
          "base_uri": "https://localhost:8080/"
        },
        "id": "aqlRFTUc55xF",
        "outputId": "b6892196-79f3-4308-9681-0819d36906d5"
      },
      "execution_count": null,
      "outputs": [
        {
          "output_type": "stream",
          "name": "stdout",
          "text": [
            "9 2\n",
            "36\n"
          ]
        }
      ]
    },
    {
      "cell_type": "code",
      "source": [
        "# Q 3.3.4 買い物の方法の数\n",
        "\n",
        "def main():\n",
        "    n = 13\n",
        "    a = '100 100 100 100 200 200 300 300 300 400 400 400 400'\n",
        "    # n = int(input())\n",
        "    a = [int(x) for x in a.split()]\n",
        "\n",
        "    a_100 = a.count(100)\n",
        "    a_200 = a.count(200)\n",
        "    a_300 = a.count(300)\n",
        "    a_400 = a.count(400)\n",
        "\n",
        "    print(a_100 * a_400 + a_200 * a_300)\n",
        "\n",
        "\n",
        "main()"
      ],
      "metadata": {
        "colab": {
          "base_uri": "https://localhost:8080/"
        },
        "id": "4UDHuvTd9v3-",
        "outputId": "c4dc9c9d-abcc-4f0b-f896-e12379dbb63d"
      },
      "execution_count": null,
      "outputs": [
        {
          "output_type": "stream",
          "name": "stdout",
          "text": [
            "22\n"
          ]
        }
      ]
    },
    {
      "cell_type": "code",
      "source": [
        "# Q 3.3.5 同色カードの組み合わせ\n",
        "\n",
        "def n_c_2(x: int):\n",
        "    return x * (x-1) // 2\n",
        "\n",
        "\n",
        "def main():\n",
        "    # n = int(input())\n",
        "    a = '1 2 3 1 2 3 1 2 3 1 2'\n",
        "    a = [int(x) for x in a.split()]\n",
        "\n",
        "    a_1 = a.count(1)\n",
        "    a_2 = a.count(2)\n",
        "    a_3 = a.count(3)\n",
        "\n",
        "    ans = n_c_2(a_1) + n_c_2(a_2) + n_c_2(a_3)\n",
        "\n",
        "    print(ans)\n",
        "\n",
        "\n",
        "main()"
      ],
      "metadata": {
        "colab": {
          "base_uri": "https://localhost:8080/"
        },
        "id": "KF6k1XSYPG98",
        "outputId": "7b82d5ec-aa70-42b1-a8c7-69ee7f86bee0"
      },
      "execution_count": null,
      "outputs": [
        {
          "output_type": "stream",
          "name": "stdout",
          "text": [
            "15\n"
          ]
        }
      ]
    },
    {
      "cell_type": "code",
      "source": [
        "%%time\n",
        "# Q 3.3.6 2枚のカードの和 = 100_000\n",
        "\n",
        "# 2 <= N <= 200_000\n",
        "# 1 <- Ai <= 99_999\n",
        "\n",
        "def main():\n",
        "    # input\n",
        "    n = 10_000\n",
        "    a = [x + 1 for x in range(n)]\n",
        "    total = 10000\n",
        "    count = 0\n",
        "\n",
        "    # code\n",
        "    # 2枚のカードを全検索\n",
        "    for i in range(n):\n",
        "        for j in range(i + 1, n):\n",
        "            if a[i] + a[j] == total:\n",
        "                count += 1\n",
        "\n",
        "    print(count)\n",
        "\n",
        "\n",
        "main()"
      ],
      "metadata": {
        "colab": {
          "base_uri": "https://localhost:8080/"
        },
        "id": "AA8JZBgbT1Vn",
        "outputId": "a4e93bef-d611-4b9d-b17a-d759a328e373"
      },
      "execution_count": null,
      "outputs": [
        {
          "output_type": "stream",
          "name": "stdout",
          "text": [
            "4999\n",
            "CPU times: user 10min 9s, sys: 976 ms, total: 10min 10s\n",
            "Wall time: 10min 11s\n"
          ]
        }
      ]
    },
    {
      "cell_type": "code",
      "source": [
        "%%time\n",
        "''' Q 3.3.6 Model Answer '''\n",
        "\n",
        "# 入力\n",
        "# N = int(input())\n",
        "# A = list(map(int, input().split()))\n",
        "N = 100_000\n",
        "a_lim = 99_999\n",
        "A = [x % a_lim + 1 for x in range(N)]\n",
        "\n",
        "# 答えを求める\n",
        "cnt = [0 for i in range(100000)]\n",
        "for i in range(N):\n",
        "\tcnt[A[i]] += 1\n",
        "\n",
        "Answer = 0\n",
        "for i in range(1, 50000):\n",
        "\tAnswer += cnt[i] * cnt[100000 - i]\n",
        "Answer += cnt[50000] * (cnt[50000] - 1) // 2\n",
        "\n",
        "# 出力\n",
        "print(Answer)"
      ],
      "metadata": {
        "colab": {
          "base_uri": "https://localhost:8080/"
        },
        "id": "QENYhxhC2Y9E",
        "outputId": "452decfd-ef73-4fc1-ce58-1b10b07e256f"
      },
      "execution_count": null,
      "outputs": [
        {
          "output_type": "stream",
          "name": "stdout",
          "text": [
            "50000\n",
            "CPU times: user 46.7 ms, sys: 3.79 ms, total: 50.5 ms\n",
            "Wall time: 50.6 ms\n"
          ]
        }
      ]
    },
    {
      "cell_type": "code",
      "source": [
        "# 2022.4.7\n",
        "\n",
        "# Q 3.3.7 碁盤目状道路\n",
        "\n",
        "N = 8\n",
        "\n",
        "def main():\n",
        "    r = [[1 for _ in range(N)] for _ in range(N)]\n",
        "\n",
        "    for i in range(1, N):\n",
        "        for j in range(1, N):\n",
        "            r[i][j] = r[i-1][j] + r[i][j-1]\n",
        "\n",
        "    print(r)\n",
        "    print(r[-1][-1])\n",
        "\n",
        "\n",
        "main()"
      ],
      "metadata": {
        "id": "q6SkPLyxUyJh",
        "colab": {
          "base_uri": "https://localhost:8080/"
        },
        "outputId": "9ce8b4d3-d144-41b1-a53e-5abc04d19a8b"
      },
      "execution_count": 3,
      "outputs": [
        {
          "output_type": "stream",
          "name": "stdout",
          "text": [
            "[[1, 1, 1, 1, 1, 1, 1, 1], [1, 2, 3, 4, 5, 6, 7, 8], [1, 3, 6, 10, 15, 21, 28, 36], [1, 4, 10, 20, 35, 56, 84, 120], [1, 5, 15, 35, 70, 126, 210, 330], [1, 6, 21, 56, 126, 252, 462, 792], [1, 7, 28, 84, 210, 462, 924, 1716], [1, 8, 36, 120, 330, 792, 1716, 3432]]\n",
            "3432\n"
          ]
        }
      ]
    },
    {
      "cell_type": "markdown",
      "source": [
        "### 3.4 確率・期待値とアルゴリズム"
      ],
      "metadata": {
        "id": "m24tCONjM-T5"
      }
    },
    {
      "cell_type": "markdown",
      "source": [
        "https://github.com/E869120/math-algorithm-book/blob/main/editorial/chap3-4/chap3-4.pdf"
      ],
      "metadata": {
        "id": "AZKQ8WfrSNI9"
      }
    },
    {
      "cell_type": "code",
      "source": [
        "# 2022.4.7\n",
        "# Q 3.4.2\n",
        "\n",
        "print(1_000_000 / 10_000 + 100_000 * 9 / 10_000 + 10_000 * 9 / 1000 + 1000 * 9 / 100)"
      ],
      "metadata": {
        "colab": {
          "base_uri": "https://localhost:8080/"
        },
        "id": "rkn785tsNK-8",
        "outputId": "8608a3ba-838d-463a-9c1a-332b80d63837"
      },
      "execution_count": 4,
      "outputs": [
        {
          "output_type": "stream",
          "name": "stdout",
          "text": [
            "370.0\n"
          ]
        }
      ]
    },
    {
      "cell_type": "code",
      "source": [
        "# Q 3.4.3\n",
        "\n",
        "N = 30\n",
        "A = [6 for _ in range(N)]\n",
        "B = [3 for _ in range(N)]\n",
        "\n",
        "\n",
        "def main():\n",
        "    e = 0\n",
        "    for i in range(N):\n",
        "        e += (A[i] / 3 + B[i]*2 / 3)\n",
        "\n",
        "    print(e)\n",
        "\n",
        "\n",
        "main()\n",
        "\n",
        "\n"
      ],
      "metadata": {
        "colab": {
          "base_uri": "https://localhost:8080/"
        },
        "id": "-_-XdTIoSUkg",
        "outputId": "2e5db8ec-c7ee-4371-9a57-b1b422a30c97"
      },
      "execution_count": 5,
      "outputs": [
        {
          "output_type": "stream",
          "name": "stdout",
          "text": [
            "120.0\n"
          ]
        }
      ]
    },
    {
      "cell_type": "code",
      "source": [
        "# Q 3.4.4\n",
        "\n",
        "N = 10\n",
        "\n",
        "def main():\n",
        "    c = (N-1) / N\n",
        "    sigma_c = 1 / (1-c)\n",
        "\n",
        "    print(N - 1 + sigma_c)\n",
        "\n",
        "\n",
        "main()"
      ],
      "metadata": {
        "colab": {
          "base_uri": "https://localhost:8080/"
        },
        "id": "PuI5b-NWR4PC",
        "outputId": "6f025d94-561f-4888-e898-c9a018decc31"
      },
      "execution_count": 14,
      "outputs": [
        {
          "output_type": "stream",
          "name": "stdout",
          "text": [
            "19.0\n"
          ]
        }
      ]
    }
  ]
}