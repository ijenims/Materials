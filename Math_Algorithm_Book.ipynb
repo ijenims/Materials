{
  "nbformat": 4,
  "nbformat_minor": 0,
  "metadata": {
    "colab": {
      "name": "Math_Algorithm_Book.ipynb",
      "provenance": [],
      "toc_visible": true,
      "authorship_tag": "ABX9TyOAv8ERRbTvDxNogFdWbMnF",
      "include_colab_link": true
    },
    "kernelspec": {
      "name": "python3",
      "display_name": "Python 3"
    },
    "language_info": {
      "name": "python"
    }
  },
  "cells": [
    {
      "cell_type": "markdown",
      "metadata": {
        "id": "view-in-github",
        "colab_type": "text"
      },
      "source": [
        "<a href=\"https://colab.research.google.com/github/ijenims/Materials/blob/main/Math_Algorithm_Book.ipynb\" target=\"_parent\"><img src=\"https://colab.research.google.com/assets/colab-badge.svg\" alt=\"Open In Colab\"/></a>"
      ]
    },
    {
      "cell_type": "markdown",
      "source": [
        "# Math-Algorithm Book"
      ],
      "metadata": {
        "id": "iOh4oyghr1f2"
      }
    },
    {
      "cell_type": "code",
      "source": [
        "# https://github.com/E869120/math-algorithm-book"
      ],
      "metadata": {
        "id": "ce_hJkuJNnnU"
      },
      "execution_count": 36,
      "outputs": []
    },
    {
      "cell_type": "markdown",
      "source": [
        "## 第2章　アルゴリズムのための数学の基本知識"
      ],
      "metadata": {
        "id": "zsgB8oYGNslx"
      }
    },
    {
      "cell_type": "markdown",
      "source": [
        "### 2.5 その他の基本的な数学の知識"
      ],
      "metadata": {
        "id": "vF2eVLmAOqcN"
      }
    },
    {
      "cell_type": "code",
      "source": [
        "# Q 2.5.3\n",
        "\n",
        "m = 1\n",
        "n = int(input())\n",
        "\n",
        "for i in range(1, n + 1):\n",
        "    m *= i\n",
        "\n",
        "print(m)\n"
      ],
      "metadata": {
        "colab": {
          "base_uri": "https://localhost:8080/"
        },
        "id": "eiiU49OqR56R",
        "outputId": "397e76dd-9a83-4b2d-a182-8e9f9f101e58"
      },
      "execution_count": 49,
      "outputs": [
        {
          "output_type": "stream",
          "name": "stdout",
          "text": [
            "20\n",
            "2432902008176640000\n"
          ]
        }
      ]
    },
    {
      "cell_type": "code",
      "source": [
        "# Q 2.5.4\n",
        "\n",
        "def prime(a):\n",
        "    sq_a = int(a ** 0.5 + 1)\n",
        "\n",
        "    for i in range(2, sq_a):\n",
        "        if a % i == 0:\n",
        "            return False\n",
        "\n",
        "    return True\n",
        "\n",
        "\n",
        "def main():\n",
        "    n = int(input())\n",
        "    ans = []\n",
        "\n",
        "    for i in range(2, n + 1):\n",
        "        if prime(i):\n",
        "            ans.append(i)\n",
        "\n",
        "    print(*ans)\n",
        "\n",
        "\n",
        "main()\n"
      ],
      "metadata": {
        "colab": {
          "base_uri": "https://localhost:8080/"
        },
        "id": "NUcl5KheUcrp",
        "outputId": "79ec5124-1944-4538-f2df-1d7bc0566707"
      },
      "execution_count": 53,
      "outputs": [
        {
          "output_type": "stream",
          "name": "stdout",
          "text": [
            "100\n",
            "2 3 5 7 11 13 17 19 23 29 31 37 41 43 47 53 59 61 67 71 73 79 83 89 97\n"
          ]
        }
      ]
    },
    {
      "cell_type": "code",
      "source": [
        "# 2022.3.19\n",
        "\n",
        "# Q 2.5.7\n",
        "\n",
        "n = int(input())\n",
        "\n",
        "cnt = 0\n",
        "for i in range(n):\n",
        "    for j in range(i + 1, n):\n",
        "        cnt += 1\n",
        "\n",
        "print(cnt)"
      ],
      "metadata": {
        "colab": {
          "base_uri": "https://localhost:8080/"
        },
        "id": "sWoGQqWhOiTi",
        "outputId": "6b4f362b-2fb0-4b27-fbdd-bb6ad75216bf"
      },
      "execution_count": 44,
      "outputs": [
        {
          "output_type": "stream",
          "name": "stdout",
          "text": [
            "10000\n",
            "49995000\n"
          ]
        }
      ]
    },
    {
      "cell_type": "code",
      "source": [
        "print(i)"
      ],
      "metadata": {
        "colab": {
          "base_uri": "https://localhost:8080/"
        },
        "id": "Zfa0510lRNju",
        "outputId": "68e9edca-c375-4cdd-d3fd-402a2ee19646"
      },
      "execution_count": 43,
      "outputs": [
        {
          "output_type": "stream",
          "name": "stdout",
          "text": [
            "111\n"
          ]
        }
      ]
    },
    {
      "cell_type": "markdown",
      "source": [
        "## 第3章　基本的なアルゴリズム"
      ],
      "metadata": {
        "id": "bx-MNElwsrNH"
      }
    },
    {
      "cell_type": "markdown",
      "source": [
        "### 3.1 素数判定法"
      ],
      "metadata": {
        "id": "pE6NYMKvtVJO"
      }
    },
    {
      "cell_type": "code",
      "source": [
        "# 2022.3.19\n",
        "\n",
        "# Q 3.1.2  素因数分解\n",
        "\n",
        "def divisor(a):\n",
        "    sq_a = int(a ** 0.5 + 1)\n",
        "    a_div = []\n",
        "\n",
        "    '''for i in range(2, sq_a):\n",
        "        if a % i == 0:\n",
        "            a_div.append(i)\n",
        "            #a_div.append(a // i)'''\n",
        "            \n",
        "    b = []\n",
        "    for j in range(2, sq_a):\n",
        "        while a % j == 0:        \n",
        "            b.append(j)\n",
        "            a //= j\n",
        "\n",
        "    if a > sq_a:\n",
        "        b.append(a)\n",
        "        \n",
        "    return b\n",
        "\n",
        "\n",
        "def main():\n",
        "    n = int(input())\n",
        "    ans = [str(z) for z in divisor(n)]\n",
        "    print(' x '.join(ans))\n",
        "    print(*ans)\n",
        "\n",
        "\n",
        "main()\n",
        "\n"
      ],
      "metadata": {
        "colab": {
          "base_uri": "https://localhost:8080/"
        },
        "id": "zrUXStKfu6Xc",
        "outputId": "4c82ffad-d515-4da6-86ae-0c7fd0729ec2"
      },
      "execution_count": 35,
      "outputs": [
        {
          "output_type": "stream",
          "name": "stdout",
          "text": [
            "20211225\n",
            "3 x 5 x 5 x 31 x 8693\n",
            "3 5 5 31 8693\n"
          ]
        }
      ]
    },
    {
      "cell_type": "code",
      "source": [
        "# Model Answer\n",
        "\n",
        "# 入力\n",
        "N = int(input())\n",
        "\n",
        "# 素因数分解\n",
        "Answer = []\n",
        "LIMIT = int(N ** 0.5)\n",
        "for i in range(2, LIMIT + 1):\n",
        "\twhile N % i == 0:\n",
        "\t\tN /= i\n",
        "\t\tAnswer.append(i)\n",
        "\n",
        "if N >= 2:\n",
        "\tAnswer.append(int(N))\n",
        "\n",
        "# 出力\n",
        "print(*Answer)"
      ],
      "metadata": {
        "colab": {
          "base_uri": "https://localhost:8080/"
        },
        "id": "D27priuDxsnr",
        "outputId": "1d9d1b36-c033-4af5-bac1-ec5a9f744c30"
      },
      "execution_count": 31,
      "outputs": [
        {
          "output_type": "stream",
          "name": "stdout",
          "text": [
            "11111\n",
            "41 271\n"
          ]
        }
      ]
    },
    {
      "cell_type": "markdown",
      "source": [
        "### 3.2 ユークリッドの互除法 "
      ],
      "metadata": {
        "id": "leR9mVf4rmOV"
      }
    },
    {
      "cell_type": "code",
      "source": [
        "# Q 3.2.2\n",
        "\n",
        "def euc(a, b):\n",
        "    while a >= 1 and b >= 1:\n",
        "        if a < b:\n",
        "            b = b % a\n",
        "        else:\n",
        "            a = a % b\n",
        "\n",
        "    return max(a, b)\n",
        "\n",
        "\n",
        "def main():\n",
        "    s = [int(z) for z in input().split()]\n",
        "\n",
        "    c = s[0]\n",
        "    for i in range(len(s) - 1):\n",
        "        c = euc(c, s[i+1])\n",
        "\n",
        "    print(c)\n",
        "\n",
        "\n",
        "main()\n"
      ],
      "metadata": {
        "colab": {
          "base_uri": "https://localhost:8080/"
        },
        "id": "OuVo3ZTHr3vc",
        "outputId": "1ba6ed2f-01e8-4bf3-fc46-a2082102298c"
      },
      "execution_count": 59,
      "outputs": [
        {
          "output_type": "stream",
          "name": "stdout",
          "text": [
            "333 444 555\n",
            "111\n"
          ]
        }
      ]
    },
    {
      "cell_type": "code",
      "source": [
        "A = {1, 2, 3, 4, 5}\n",
        "B = {4, 5, 6, 7, 8}\n",
        "\n",
        "print(B and A)"
      ],
      "metadata": {
        "colab": {
          "base_uri": "https://localhost:8080/"
        },
        "id": "WdlKqNti6vnN",
        "outputId": "edb2159a-d29b-486f-f593-a4a6913dffa2"
      },
      "execution_count": 71,
      "outputs": [
        {
          "output_type": "stream",
          "name": "stdout",
          "text": [
            "{1, 2, 3, 4, 5}\n"
          ]
        }
      ]
    },
    {
      "cell_type": "code",
      "source": [
        ""
      ],
      "metadata": {
        "id": "gQxp-4YA8Fc_"
      },
      "execution_count": null,
      "outputs": []
    }
  ]
}