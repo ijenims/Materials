{
 "cells": [
  {
   "cell_type": "code",
   "execution_count": 3,
   "metadata": {},
   "outputs": [
    {
     "name": "stdout",
     "output_type": "stream",
     "text": [
      "5000000050000000\n"
     ]
    }
   ],
   "source": [
    "'''ガウスの計算方法\n",
    "'''\n",
    "\n",
    "wa = 0\n",
    "saidai = 100000000\n",
    "\n",
    "for i in range(saidai+1):\n",
    "    wa += i\n",
    "\n",
    "print(wa)\n"
   ]
  },
  {
   "cell_type": "code",
   "execution_count": 5,
   "metadata": {},
   "outputs": [
    {
     "name": "stdout",
     "output_type": "stream",
     "text": [
      "5000000050000000\n"
     ]
    }
   ],
   "source": [
    "'''ガウスの計算方法（時短）\n",
    "'''\n",
    "\n",
    "saidai = 100000000\n",
    "print(int((saidai + 1) * saidai / 2))"
   ]
  },
  {
   "cell_type": "code",
   "execution_count": 8,
   "metadata": {},
   "outputs": [
    {
     "name": "stdout",
     "output_type": "stream",
     "text": [
      "[1, 1, 2, 3, 5, 8, 13, 21, 34, 55, 89, 144]\n"
     ]
    }
   ],
   "source": [
    "'''フィボナッチ数列'''\n",
    "\n",
    "fibo = [1, 1]\n",
    "\n",
    "for i in range(2, 12):\n",
    "    fibo.append(fibo[i - 2] + fibo[i - 1])\n",
    "    \n",
    "print(fibo)\n"
   ]
  },
  {
   "cell_type": "code",
   "execution_count": 16,
   "metadata": {},
   "outputs": [
    {
     "name": "stdout",
     "output_type": "stream",
     "text": [
      "3 4 5\n",
      "5 12 13\n",
      "8 15 17\n",
      "20 21 29\n",
      "7 24 25\n",
      "12 35 37\n",
      "9 40 41\n",
      "28 45 53\n",
      "48 55 73\n",
      "33 56 65\n",
      "11 60 61\n",
      "16 63 65\n",
      "65 72 97\n",
      "36 77 85\n",
      "39 80 89\n",
      "13 84 85\n",
      "60 91 109\n",
      "20 99 101\n"
     ]
    }
   ],
   "source": [
    "'''Pythogoras\n",
    "'''\n",
    "import math\n",
    "\n",
    "def pythagoras(n):\n",
    "    for b in range(n):\n",
    "        for a in range(1, b):\n",
    "            c = math.sqrt( a * a + b * b)\n",
    "            if c % 1 == 0:\n",
    "                c = int(c)\n",
    "                if math.gcd(a,b)*math.gcd(b,c)*math.gcd(c,a) == 1:\n",
    "                    # gcd : 最大公約数 (greatest common denominator)\n",
    "                    print(a, b, c)\n",
    "                    \n",
    "if __name__ == \"__main__\":\n",
    "    pythagoras(100)"
   ]
  },
  {
   "cell_type": "code",
   "execution_count": null,
   "metadata": {},
   "outputs": [],
   "source": [
    "'''フラクタルの１つ・雪片曲線（コッホ曲線）を描くプログラムです。\n",
    "'''\n",
    "from turtle import *\n",
    "\n",
    "def koch(length, level):\n",
    "    if level == 0:\n",
    "        forward(length)\n",
    "        return\n",
    "    length /= 3\n",
    "    koch(length, level-1)\n",
    "    left(60)\n",
    "    koch(length, level-1)\n",
    "    right(120)\n",
    "    koch(length, level-1)\n",
    "    left(60)\n",
    "    koch(length, level-1)\n",
    "    \n",
    "if __name__ == \"__main__\":\n",
    "    nagasa = 300\n",
    "    for i in range(3):\n",
    "        koch(nagasa, 4)\n",
    "        right(120)\n",
    "    mainloop()"
   ]
  },
  {
   "cell_type": "code",
   "execution_count": null,
   "metadata": {},
   "outputs": [],
   "source": []
  }
 ],
 "metadata": {
  "kernelspec": {
   "display_name": "Python 3",
   "language": "python",
   "name": "python3"
  }
 },
 "nbformat": 4,
 "nbformat_minor": 4
}
