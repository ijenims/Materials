{
 "cells": [
  {
   "cell_type": "code",
   "execution_count": 4,
   "metadata": {
    "scrolled": true
   },
   "outputs": [
    {
     "name": "stdout",
     "output_type": "stream",
     "text": [
      "西宮でおすすめの美味しいそばをご紹介！ | 食べログ\n",
      "馳走侘助  夙川駅 211m \n",
      "丸万  苦楽園口駅 49m \n",
      "そば太鼓亭 西宮山口店  西宮市 \n",
      "そば太鼓亭 西宮大島店  甲東園駅 876m \n",
      "甲陽園 喜庵  甲陽園駅 174m \n",
      "一番  今津（阪急）駅 56m \n",
      "御麺処 あずみ野  西宮（阪神）駅 519m \n",
      "田舎庵  鳴尾・武庫川女子大前駅 431m \n",
      "あんばい  夙川駅 111m \n",
      "たけふく  西宮北口駅 619m \n",
      "夢打庵  門戸厄神駅 127m \n",
      "そじ坊 アクタ西宮店  西宮北口駅 160m \n",
      "雅屋  甲子園駅 360m \n",
      "のきば 阪神西宮駅店  西宮（阪神）駅 46m \n",
      "今昔庵  甲東園駅 413m \n",
      "若菜そば 阪急西宮北口店  西宮北口駅 27m \n",
      "番馬亭  西宮北口駅 160m \n",
      "割烹そば 神田 阪急西宮ガーデンズ店  西宮北口駅 375m \n",
      "以知川  夙川駅 116m \n",
      "そば太鼓亭　 西宮建石店  香櫨園駅 788m \n"
     ]
    }
   ],
   "source": [
    "# coding: utf-8\n",
    "import requests\n",
    "from bs4 import BeautifulSoup\n",
    "import re\n",
    "\n",
    "url = 'https://tabelog.com/hyogo/A2803/A280301/rstLst/soba/'\n",
    "site = requests.get(url)\n",
    "data = BeautifulSoup(site.text, 'html.parser')\n",
    "\n",
    "''' 絞り込み '''\n",
    "elems = data.find_all('a', class_=\"list-rst__rst-name-target\")\n",
    "place = data.find_all(class_=\"list-rst__area-genre cpy-area-genre\")\n",
    "\n",
    "#print(data.title)\n",
    "print(data.title.text)\n",
    "'''\n",
    "print(data.find_all('h1'))\n",
    "print(data.find_all('h2'))\n",
    "print(data.find_all('h3'))\n",
    "'''\n",
    "#print(data.find_all('h4'))\n",
    "\n",
    "for i in range(len(elems)):\n",
    "    place_only = place[i].contents[0].split('/')\n",
    "    print(elems[i].contents[0], place_only[0])"
   ]
  },
  {
   "cell_type": "code",
   "execution_count": 5,
   "metadata": {},
   "outputs": [
    {
     "data": {
      "text/plain": [
       "'馳走侘助'"
      ]
     },
     "execution_count": 5,
     "metadata": {},
     "output_type": "execute_result"
    }
   ],
   "source": [
    "elems[0].contents[0]"
   ]
  },
  {
   "cell_type": "code",
   "execution_count": null,
   "metadata": {},
   "outputs": [],
   "source": []
  },
  {
   "cell_type": "code",
   "execution_count": null,
   "metadata": {},
   "outputs": [],
   "source": []
  }
 ],
 "metadata": {
  "kernelspec": {
   "display_name": "Python 3",
   "language": "python",
   "name": "python3"
  },
  "language_info": {
   "codemirror_mode": {
    "name": "ipython",
    "version": 3
   },
   "file_extension": ".py",
   "mimetype": "text/x-python",
   "name": "python",
   "nbconvert_exporter": "python",
   "pygments_lexer": "ipython3",
   "version": "3.8.3"
  }
 },
 "nbformat": 4,
 "nbformat_minor": 4
}
