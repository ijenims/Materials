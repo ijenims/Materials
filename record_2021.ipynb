{
 "cells": [
  {
   "cell_type": "markdown",
   "id": "16ae1c19-2464-4e5f-8683-767f3c73b536",
   "metadata": {},
   "source": [
    "# 「電車線定規検査記録」をデータベース化する"
   ]
  },
  {
   "cell_type": "markdown",
   "id": "db27e351-0e66-4fdf-916d-6e66cdf9fc30",
   "metadata": {},
   "source": [
    "ライブラリの読み込み"
   ]
  },
  {
   "cell_type": "code",
   "execution_count": 18,
   "id": "d69b72bf-4df2-4489-a4e1-0d317864fc69",
   "metadata": {},
   "outputs": [],
   "source": [
    "%matplotlib inline\n",
    "\n",
    "# ライブラリのインポート\n",
    "import os\n",
    "import numpy as np\n",
    "import pandas as pd\n",
    "import matplotlib.pyplot as plt"
   ]
  },
  {
   "cell_type": "markdown",
   "id": "277dbcd8-55b9-426b-b47c-792fab5aa36f",
   "metadata": {},
   "source": [
    "ファイル名の取得"
   ]
  },
  {
   "cell_type": "code",
   "execution_count": 32,
   "id": "6f260b69-b817-4f3b-b361-6ac9401ba09c",
   "metadata": {},
   "outputs": [
    {
     "name": "stdout",
     "output_type": "stream",
     "text": [
      "['01.電車線定規検査記録\\u3000（里西上）R03.11末付け.xlsx', '01\\u3000入出庫点検１番線 R03.07末付け.xls', 'Train_line_1.csv', 'Train_line_2.csv', '~$01.電車線定規検査記録\\u3000（里西上）R03.11末付け.xlsx']\n"
     ]
    }
   ],
   "source": [
    "file_path = './DB/'\n",
    "file_names = os.listdir(file_path)\n",
    "\n",
    "print(file_names)"
   ]
  },
  {
   "cell_type": "markdown",
   "id": "8be841ab-ceb5-4929-a613-8a7cdd031ea1",
   "metadata": {},
   "source": [
    "EXCELファイルのデータフレームへの取り込み（ヘッダ部スキップ、読み込み列指定、ヘッダ変更）"
   ]
  },
  {
   "cell_type": "code",
   "execution_count": 33,
   "id": "2fa4e8ed-3503-49d0-875f-1098b9602169",
   "metadata": {},
   "outputs": [
    {
     "data": {
      "text/html": [
       "<div>\n",
       "<style scoped>\n",
       "    .dataframe tbody tr th:only-of-type {\n",
       "        vertical-align: middle;\n",
       "    }\n",
       "\n",
       "    .dataframe tbody tr th {\n",
       "        vertical-align: top;\n",
       "    }\n",
       "\n",
       "    .dataframe thead th {\n",
       "        text-align: right;\n",
       "    }\n",
       "</style>\n",
       "<table border=\"1\" class=\"dataframe\">\n",
       "  <thead>\n",
       "    <tr style=\"text-align: right;\">\n",
       "      <th></th>\n",
       "      <th>No.</th>\n",
       "      <th>name</th>\n",
       "      <th>R_h</th>\n",
       "      <th>S_h</th>\n",
       "      <th>T_h</th>\n",
       "      <th>R_d</th>\n",
       "      <th>S_d</th>\n",
       "      <th>T_d</th>\n",
       "    </tr>\n",
       "  </thead>\n",
       "  <tbody>\n",
       "    <tr>\n",
       "      <th>0</th>\n",
       "      <td>1.0</td>\n",
       "      <td>里上００１</td>\n",
       "      <td>-1.0</td>\n",
       "      <td>1.0</td>\n",
       "      <td>0.0</td>\n",
       "      <td>-4.0</td>\n",
       "      <td>-3.0</td>\n",
       "      <td>-1.0</td>\n",
       "    </tr>\n",
       "    <tr>\n",
       "      <th>1</th>\n",
       "      <td>2.0</td>\n",
       "      <td>里上００２</td>\n",
       "      <td>2.0</td>\n",
       "      <td>3.0</td>\n",
       "      <td>1.0</td>\n",
       "      <td>2.0</td>\n",
       "      <td>3.0</td>\n",
       "      <td>2.0</td>\n",
       "    </tr>\n",
       "    <tr>\n",
       "      <th>2</th>\n",
       "      <td>3.0</td>\n",
       "      <td>里上００３</td>\n",
       "      <td>0.0</td>\n",
       "      <td>0.0</td>\n",
       "      <td>0.0</td>\n",
       "      <td>0.0</td>\n",
       "      <td>1.0</td>\n",
       "      <td>0.0</td>\n",
       "    </tr>\n",
       "    <tr>\n",
       "      <th>3</th>\n",
       "      <td>4.0</td>\n",
       "      <td>里上００４</td>\n",
       "      <td>0.0</td>\n",
       "      <td>0.0</td>\n",
       "      <td>2.0</td>\n",
       "      <td>0.0</td>\n",
       "      <td>1.0</td>\n",
       "      <td>0.0</td>\n",
       "    </tr>\n",
       "    <tr>\n",
       "      <th>4</th>\n",
       "      <td>5.0</td>\n",
       "      <td>里上００５</td>\n",
       "      <td>0.0</td>\n",
       "      <td>-1.0</td>\n",
       "      <td>0.0</td>\n",
       "      <td>0.0</td>\n",
       "      <td>0.0</td>\n",
       "      <td>0.0</td>\n",
       "    </tr>\n",
       "    <tr>\n",
       "      <th>...</th>\n",
       "      <td>...</td>\n",
       "      <td>...</td>\n",
       "      <td>...</td>\n",
       "      <td>...</td>\n",
       "      <td>...</td>\n",
       "      <td>...</td>\n",
       "      <td>...</td>\n",
       "      <td>...</td>\n",
       "    </tr>\n",
       "    <tr>\n",
       "      <th>309</th>\n",
       "      <td>310.0</td>\n",
       "      <td>里上３１０</td>\n",
       "      <td>0.0</td>\n",
       "      <td>2.0</td>\n",
       "      <td>-1.0</td>\n",
       "      <td>0.0</td>\n",
       "      <td>0.0</td>\n",
       "      <td>0.0</td>\n",
       "    </tr>\n",
       "    <tr>\n",
       "      <th>310</th>\n",
       "      <td>311.0</td>\n",
       "      <td>里上３１１</td>\n",
       "      <td>0.0</td>\n",
       "      <td>0.0</td>\n",
       "      <td>-1.0</td>\n",
       "      <td>0.0</td>\n",
       "      <td>0.0</td>\n",
       "      <td>-1.0</td>\n",
       "    </tr>\n",
       "    <tr>\n",
       "      <th>311</th>\n",
       "      <td>312.0</td>\n",
       "      <td>里上３１２</td>\n",
       "      <td>0.0</td>\n",
       "      <td>0.0</td>\n",
       "      <td>0.0</td>\n",
       "      <td>-1.0</td>\n",
       "      <td>-1.0</td>\n",
       "      <td>-1.0</td>\n",
       "    </tr>\n",
       "    <tr>\n",
       "      <th>312</th>\n",
       "      <td>313.0</td>\n",
       "      <td>里上３１３</td>\n",
       "      <td>0.0</td>\n",
       "      <td>1.0</td>\n",
       "      <td>-1.0</td>\n",
       "      <td>0.0</td>\n",
       "      <td>-2.0</td>\n",
       "      <td>-1.0</td>\n",
       "    </tr>\n",
       "    <tr>\n",
       "      <th>313</th>\n",
       "      <td>NaN</td>\n",
       "      <td>NaN</td>\n",
       "      <td>NaN</td>\n",
       "      <td>NaN</td>\n",
       "      <td>NaN</td>\n",
       "      <td>NaN</td>\n",
       "      <td>NaN</td>\n",
       "      <td>NaN</td>\n",
       "    </tr>\n",
       "  </tbody>\n",
       "</table>\n",
       "<p>314 rows × 8 columns</p>\n",
       "</div>"
      ],
      "text/plain": [
       "       No.   name  R_h  S_h  T_h  R_d  S_d  T_d\n",
       "0      1.0  里上００１ -1.0  1.0  0.0 -4.0 -3.0 -1.0\n",
       "1      2.0  里上００２  2.0  3.0  1.0  2.0  3.0  2.0\n",
       "2      3.0  里上００３  0.0  0.0  0.0  0.0  1.0  0.0\n",
       "3      4.0  里上００４  0.0  0.0  2.0  0.0  1.0  0.0\n",
       "4      5.0  里上００５  0.0 -1.0  0.0  0.0  0.0  0.0\n",
       "..     ...    ...  ...  ...  ...  ...  ...  ...\n",
       "309  310.0  里上３１０  0.0  2.0 -1.0  0.0  0.0  0.0\n",
       "310  311.0  里上３１１  0.0  0.0 -1.0  0.0  0.0 -1.0\n",
       "311  312.0  里上３１２  0.0  0.0  0.0 -1.0 -1.0 -1.0\n",
       "312  313.0  里上３１３  0.0  1.0 -1.0  0.0 -2.0 -1.0\n",
       "313    NaN    NaN  NaN  NaN  NaN  NaN  NaN  NaN\n",
       "\n",
       "[314 rows x 8 columns]"
      ]
     },
     "execution_count": 33,
     "metadata": {},
     "output_type": "execute_result"
    }
   ],
   "source": [
    "\n",
    "file_name = file_names[0]\n",
    "\n",
    "excel_path = file_path + file_name\n",
    "header = ['No.', 'name', 'R_h', 'S_h', 'T_h', 'R_d', 'S_d', 'T_d']\n",
    "\n",
    "if file_name[-4:] == '.xls':\n",
    "    sheet_name = 'R03年度'\n",
    "    df = pd.read_excel(excel_path, sheet_name=sheet_name, \n",
    "                   skiprows=11, usecols=[1, 2, 4, 6, 8, 10, 12, 14], names=header, header=None)\n",
    "    \n",
    "if file_name[-4:] == 'xlsx':\n",
    "    sheet_name = 'R03年'\n",
    "    df = pd.read_excel(excel_path, sheet_name=sheet_name, \n",
    "                   skiprows=11, usecols=[0, 1, 3, 5, 7, 9, 11, 13], names=header, header=None)\n",
    "\n",
    "    \n",
    "df"
   ]
  },
  {
   "cell_type": "markdown",
   "id": "102f55ad-6f07-41f7-b13d-add8a4d19aa7",
   "metadata": {},
   "source": [
    "空白行の削除"
   ]
  },
  {
   "cell_type": "code",
   "execution_count": 34,
   "id": "3f7db548-ccf0-412e-a09a-16abfb4d3431",
   "metadata": {},
   "outputs": [
    {
     "data": {
      "text/html": [
       "<div>\n",
       "<style scoped>\n",
       "    .dataframe tbody tr th:only-of-type {\n",
       "        vertical-align: middle;\n",
       "    }\n",
       "\n",
       "    .dataframe tbody tr th {\n",
       "        vertical-align: top;\n",
       "    }\n",
       "\n",
       "    .dataframe thead th {\n",
       "        text-align: right;\n",
       "    }\n",
       "</style>\n",
       "<table border=\"1\" class=\"dataframe\">\n",
       "  <thead>\n",
       "    <tr style=\"text-align: right;\">\n",
       "      <th></th>\n",
       "      <th>No.</th>\n",
       "      <th>name</th>\n",
       "      <th>R_h</th>\n",
       "      <th>S_h</th>\n",
       "      <th>T_h</th>\n",
       "      <th>R_d</th>\n",
       "      <th>S_d</th>\n",
       "      <th>T_d</th>\n",
       "    </tr>\n",
       "  </thead>\n",
       "  <tbody>\n",
       "    <tr>\n",
       "      <th>0</th>\n",
       "      <td>1.0</td>\n",
       "      <td>里上００１</td>\n",
       "      <td>-1.0</td>\n",
       "      <td>1.0</td>\n",
       "      <td>0.0</td>\n",
       "      <td>-4.0</td>\n",
       "      <td>-3.0</td>\n",
       "      <td>-1.0</td>\n",
       "    </tr>\n",
       "    <tr>\n",
       "      <th>1</th>\n",
       "      <td>2.0</td>\n",
       "      <td>里上００２</td>\n",
       "      <td>2.0</td>\n",
       "      <td>3.0</td>\n",
       "      <td>1.0</td>\n",
       "      <td>2.0</td>\n",
       "      <td>3.0</td>\n",
       "      <td>2.0</td>\n",
       "    </tr>\n",
       "    <tr>\n",
       "      <th>2</th>\n",
       "      <td>3.0</td>\n",
       "      <td>里上００３</td>\n",
       "      <td>0.0</td>\n",
       "      <td>0.0</td>\n",
       "      <td>0.0</td>\n",
       "      <td>0.0</td>\n",
       "      <td>1.0</td>\n",
       "      <td>0.0</td>\n",
       "    </tr>\n",
       "    <tr>\n",
       "      <th>3</th>\n",
       "      <td>4.0</td>\n",
       "      <td>里上００４</td>\n",
       "      <td>0.0</td>\n",
       "      <td>0.0</td>\n",
       "      <td>2.0</td>\n",
       "      <td>0.0</td>\n",
       "      <td>1.0</td>\n",
       "      <td>0.0</td>\n",
       "    </tr>\n",
       "    <tr>\n",
       "      <th>4</th>\n",
       "      <td>5.0</td>\n",
       "      <td>里上００５</td>\n",
       "      <td>0.0</td>\n",
       "      <td>-1.0</td>\n",
       "      <td>0.0</td>\n",
       "      <td>0.0</td>\n",
       "      <td>0.0</td>\n",
       "      <td>0.0</td>\n",
       "    </tr>\n",
       "    <tr>\n",
       "      <th>...</th>\n",
       "      <td>...</td>\n",
       "      <td>...</td>\n",
       "      <td>...</td>\n",
       "      <td>...</td>\n",
       "      <td>...</td>\n",
       "      <td>...</td>\n",
       "      <td>...</td>\n",
       "      <td>...</td>\n",
       "    </tr>\n",
       "    <tr>\n",
       "      <th>308</th>\n",
       "      <td>309.0</td>\n",
       "      <td>里上３０９</td>\n",
       "      <td>1.0</td>\n",
       "      <td>1.0</td>\n",
       "      <td>0.0</td>\n",
       "      <td>-1.0</td>\n",
       "      <td>0.0</td>\n",
       "      <td>-1.0</td>\n",
       "    </tr>\n",
       "    <tr>\n",
       "      <th>309</th>\n",
       "      <td>310.0</td>\n",
       "      <td>里上３１０</td>\n",
       "      <td>0.0</td>\n",
       "      <td>2.0</td>\n",
       "      <td>-1.0</td>\n",
       "      <td>0.0</td>\n",
       "      <td>0.0</td>\n",
       "      <td>0.0</td>\n",
       "    </tr>\n",
       "    <tr>\n",
       "      <th>310</th>\n",
       "      <td>311.0</td>\n",
       "      <td>里上３１１</td>\n",
       "      <td>0.0</td>\n",
       "      <td>0.0</td>\n",
       "      <td>-1.0</td>\n",
       "      <td>0.0</td>\n",
       "      <td>0.0</td>\n",
       "      <td>-1.0</td>\n",
       "    </tr>\n",
       "    <tr>\n",
       "      <th>311</th>\n",
       "      <td>312.0</td>\n",
       "      <td>里上３１２</td>\n",
       "      <td>0.0</td>\n",
       "      <td>0.0</td>\n",
       "      <td>0.0</td>\n",
       "      <td>-1.0</td>\n",
       "      <td>-1.0</td>\n",
       "      <td>-1.0</td>\n",
       "    </tr>\n",
       "    <tr>\n",
       "      <th>312</th>\n",
       "      <td>313.0</td>\n",
       "      <td>里上３１３</td>\n",
       "      <td>0.0</td>\n",
       "      <td>1.0</td>\n",
       "      <td>-1.0</td>\n",
       "      <td>0.0</td>\n",
       "      <td>-2.0</td>\n",
       "      <td>-1.0</td>\n",
       "    </tr>\n",
       "  </tbody>\n",
       "</table>\n",
       "<p>313 rows × 8 columns</p>\n",
       "</div>"
      ],
      "text/plain": [
       "       No.   name  R_h  S_h  T_h  R_d  S_d  T_d\n",
       "0      1.0  里上００１ -1.0  1.0  0.0 -4.0 -3.0 -1.0\n",
       "1      2.0  里上００２  2.0  3.0  1.0  2.0  3.0  2.0\n",
       "2      3.0  里上００３  0.0  0.0  0.0  0.0  1.0  0.0\n",
       "3      4.0  里上００４  0.0  0.0  2.0  0.0  1.0  0.0\n",
       "4      5.0  里上００５  0.0 -1.0  0.0  0.0  0.0  0.0\n",
       "..     ...    ...  ...  ...  ...  ...  ...  ...\n",
       "308  309.0  里上３０９  1.0  1.0  0.0 -1.0  0.0 -1.0\n",
       "309  310.0  里上３１０  0.0  2.0 -1.0  0.0  0.0  0.0\n",
       "310  311.0  里上３１１  0.0  0.0 -1.0  0.0  0.0 -1.0\n",
       "311  312.0  里上３１２  0.0  0.0  0.0 -1.0 -1.0 -1.0\n",
       "312  313.0  里上３１３  0.0  1.0 -1.0  0.0 -2.0 -1.0\n",
       "\n",
       "[313 rows x 8 columns]"
      ]
     },
     "execution_count": 34,
     "metadata": {},
     "output_type": "execute_result"
    }
   ],
   "source": [
    "df2 = df.dropna(how='all')\n",
    "df2"
   ]
  },
  {
   "cell_type": "code",
   "execution_count": 35,
   "id": "ee264659-766d-4e61-b774-78786a784ce4",
   "metadata": {},
   "outputs": [
    {
     "data": {
      "text/plain": [
       "<AxesSubplot:>"
      ]
     },
     "execution_count": 35,
     "metadata": {},
     "output_type": "execute_result"
    },
    {
     "data": {
      "image/png": "[encoded data removed]",
      "text/plain": [
       "<Figure size 432x288 with 1 Axes>"
      ]
     },
     "metadata": {
      "needs_background": "light"
     },
     "output_type": "display_data"
    }
   ],
   "source": [
    "df2['R_h'].hist(bins=9)"
   ]
  },
  {
   "cell_type": "code",
   "execution_count": 30,
   "id": "f8ee6059-2537-40a4-a704-3e48e2df8712",
   "metadata": {},
   "outputs": [
    {
     "data": {
      "text/plain": [
       "<AxesSubplot:>"
      ]
     },
     "execution_count": 30,
     "metadata": {},
     "output_type": "execute_result"
    },
    {
     "data": {
      "image/png": "[encoded data removed]",
      "text/plain": [
       "<Figure size 1440x432 with 1 Axes>"
      ]
     },
     "metadata": {
      "needs_background": "light"
     },
     "output_type": "display_data"
    }
   ],
   "source": [
    "df2['R_h'].plot(figsize=(20, 6))"
   ]
  },
  {
   "cell_type": "code",
   "execution_count": null,
   "id": "1d19ffdb-457f-42a8-816e-119faabd47d5",
   "metadata": {},
   "outputs": [],
   "source": []
  }
 ],
 "metadata": {
  "kernelspec": {
   "display_name": "Python 3 (ipykernel)",
   "language": "python",
   "name": "python3"
  },
  "language_info": {
   "codemirror_mode": {
    "name": "ipython",
    "version": 3
   },
   "file_extension": ".py",
   "mimetype": "text/x-python",
   "name": "python",
   "nbconvert_exporter": "python",
   "pygments_lexer": "ipython3",
   "version": "3.8.11"
  }
 },
 "nbformat": 4,
 "nbformat_minor": 5
}
